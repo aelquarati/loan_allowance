{
 "cells": [
  {
   "cell_type": "code",
   "execution_count": 1,
   "metadata": {},
   "outputs": [],
   "source": [
    "import pandas as pd\n",
    "import numpy as np\n",
    "import seaborn as sn\n",
    "import matplotlib.pyplot as plt\n",
    "import os\n",
    "import plotly.express as px\n",
    "import warnings\n",
    "warnings.filterwarnings('ignore')\n",
    "from scipy import stats\n",
    "from sklearn.model_selection import train_test_split\n",
    "from sklearn.linear_model import LogisticRegression\n",
    "from sklearn.metrics import confusion_matrix\n",
    "from sklearn.metrics import roc_auc_score, roc_curve, precision_recall_fscore_support, confusion_matrix, plot_confusion_matrix, f1_score, precision_score, recall_score"
   ]
  },
  {
   "cell_type": "code",
   "execution_count": 2,
   "metadata": {},
   "outputs": [],
   "source": [
    "data = pd.read_csv(r'loan_prediction.csv')"
   ]
  },
  {
   "cell_type": "code",
   "execution_count": 3,
   "metadata": {},
   "outputs": [
    {
     "name": "stdout",
     "output_type": "stream",
     "text": [
      "The shape of our dataset:  (614, 13)\n"
     ]
    },
    {
     "data": {
      "text/html": [
       "<div>\n",
       "<style scoped>\n",
       "    .dataframe tbody tr th:only-of-type {\n",
       "        vertical-align: middle;\n",
       "    }\n",
       "\n",
       "    .dataframe tbody tr th {\n",
       "        vertical-align: top;\n",
       "    }\n",
       "\n",
       "    .dataframe thead th {\n",
       "        text-align: right;\n",
       "    }\n",
       "</style>\n",
       "<table border=\"1\" class=\"dataframe\">\n",
       "  <thead>\n",
       "    <tr style=\"text-align: right;\">\n",
       "      <th></th>\n",
       "      <th>Loan_ID</th>\n",
       "      <th>Gender</th>\n",
       "      <th>Married</th>\n",
       "      <th>Dependents</th>\n",
       "      <th>Education</th>\n",
       "      <th>Self_Employed</th>\n",
       "      <th>ApplicantIncome</th>\n",
       "      <th>CoapplicantIncome</th>\n",
       "      <th>LoanAmount</th>\n",
       "      <th>Loan_Amount_Term</th>\n",
       "      <th>Credit_History</th>\n",
       "      <th>Property_Area</th>\n",
       "      <th>Loan_Status</th>\n",
       "    </tr>\n",
       "  </thead>\n",
       "  <tbody>\n",
       "    <tr>\n",
       "      <th>0</th>\n",
       "      <td>LP001002</td>\n",
       "      <td>Male</td>\n",
       "      <td>No</td>\n",
       "      <td>0</td>\n",
       "      <td>Graduate</td>\n",
       "      <td>No</td>\n",
       "      <td>5849</td>\n",
       "      <td>0.0</td>\n",
       "      <td>NaN</td>\n",
       "      <td>360.0</td>\n",
       "      <td>1.0</td>\n",
       "      <td>Urban</td>\n",
       "      <td>Y</td>\n",
       "    </tr>\n",
       "    <tr>\n",
       "      <th>1</th>\n",
       "      <td>LP001003</td>\n",
       "      <td>Male</td>\n",
       "      <td>Yes</td>\n",
       "      <td>1</td>\n",
       "      <td>Graduate</td>\n",
       "      <td>No</td>\n",
       "      <td>4583</td>\n",
       "      <td>1508.0</td>\n",
       "      <td>128.0</td>\n",
       "      <td>360.0</td>\n",
       "      <td>1.0</td>\n",
       "      <td>Rural</td>\n",
       "      <td>N</td>\n",
       "    </tr>\n",
       "    <tr>\n",
       "      <th>2</th>\n",
       "      <td>LP001005</td>\n",
       "      <td>Male</td>\n",
       "      <td>Yes</td>\n",
       "      <td>0</td>\n",
       "      <td>Graduate</td>\n",
       "      <td>Yes</td>\n",
       "      <td>3000</td>\n",
       "      <td>0.0</td>\n",
       "      <td>66.0</td>\n",
       "      <td>360.0</td>\n",
       "      <td>1.0</td>\n",
       "      <td>Urban</td>\n",
       "      <td>Y</td>\n",
       "    </tr>\n",
       "    <tr>\n",
       "      <th>3</th>\n",
       "      <td>LP001006</td>\n",
       "      <td>Male</td>\n",
       "      <td>Yes</td>\n",
       "      <td>0</td>\n",
       "      <td>Not Graduate</td>\n",
       "      <td>No</td>\n",
       "      <td>2583</td>\n",
       "      <td>2358.0</td>\n",
       "      <td>120.0</td>\n",
       "      <td>360.0</td>\n",
       "      <td>1.0</td>\n",
       "      <td>Urban</td>\n",
       "      <td>Y</td>\n",
       "    </tr>\n",
       "    <tr>\n",
       "      <th>4</th>\n",
       "      <td>LP001008</td>\n",
       "      <td>Male</td>\n",
       "      <td>No</td>\n",
       "      <td>0</td>\n",
       "      <td>Graduate</td>\n",
       "      <td>No</td>\n",
       "      <td>6000</td>\n",
       "      <td>0.0</td>\n",
       "      <td>141.0</td>\n",
       "      <td>360.0</td>\n",
       "      <td>1.0</td>\n",
       "      <td>Urban</td>\n",
       "      <td>Y</td>\n",
       "    </tr>\n",
       "    <tr>\n",
       "      <th>...</th>\n",
       "      <td>...</td>\n",
       "      <td>...</td>\n",
       "      <td>...</td>\n",
       "      <td>...</td>\n",
       "      <td>...</td>\n",
       "      <td>...</td>\n",
       "      <td>...</td>\n",
       "      <td>...</td>\n",
       "      <td>...</td>\n",
       "      <td>...</td>\n",
       "      <td>...</td>\n",
       "      <td>...</td>\n",
       "      <td>...</td>\n",
       "    </tr>\n",
       "    <tr>\n",
       "      <th>609</th>\n",
       "      <td>LP002978</td>\n",
       "      <td>Female</td>\n",
       "      <td>No</td>\n",
       "      <td>0</td>\n",
       "      <td>Graduate</td>\n",
       "      <td>No</td>\n",
       "      <td>2900</td>\n",
       "      <td>0.0</td>\n",
       "      <td>71.0</td>\n",
       "      <td>360.0</td>\n",
       "      <td>1.0</td>\n",
       "      <td>Rural</td>\n",
       "      <td>Y</td>\n",
       "    </tr>\n",
       "    <tr>\n",
       "      <th>610</th>\n",
       "      <td>LP002979</td>\n",
       "      <td>Male</td>\n",
       "      <td>Yes</td>\n",
       "      <td>3+</td>\n",
       "      <td>Graduate</td>\n",
       "      <td>No</td>\n",
       "      <td>4106</td>\n",
       "      <td>0.0</td>\n",
       "      <td>40.0</td>\n",
       "      <td>180.0</td>\n",
       "      <td>1.0</td>\n",
       "      <td>Rural</td>\n",
       "      <td>Y</td>\n",
       "    </tr>\n",
       "    <tr>\n",
       "      <th>611</th>\n",
       "      <td>LP002983</td>\n",
       "      <td>Male</td>\n",
       "      <td>Yes</td>\n",
       "      <td>1</td>\n",
       "      <td>Graduate</td>\n",
       "      <td>No</td>\n",
       "      <td>8072</td>\n",
       "      <td>240.0</td>\n",
       "      <td>253.0</td>\n",
       "      <td>360.0</td>\n",
       "      <td>1.0</td>\n",
       "      <td>Urban</td>\n",
       "      <td>Y</td>\n",
       "    </tr>\n",
       "    <tr>\n",
       "      <th>612</th>\n",
       "      <td>LP002984</td>\n",
       "      <td>Male</td>\n",
       "      <td>Yes</td>\n",
       "      <td>2</td>\n",
       "      <td>Graduate</td>\n",
       "      <td>No</td>\n",
       "      <td>7583</td>\n",
       "      <td>0.0</td>\n",
       "      <td>187.0</td>\n",
       "      <td>360.0</td>\n",
       "      <td>1.0</td>\n",
       "      <td>Urban</td>\n",
       "      <td>Y</td>\n",
       "    </tr>\n",
       "    <tr>\n",
       "      <th>613</th>\n",
       "      <td>LP002990</td>\n",
       "      <td>Female</td>\n",
       "      <td>No</td>\n",
       "      <td>0</td>\n",
       "      <td>Graduate</td>\n",
       "      <td>Yes</td>\n",
       "      <td>4583</td>\n",
       "      <td>0.0</td>\n",
       "      <td>133.0</td>\n",
       "      <td>360.0</td>\n",
       "      <td>0.0</td>\n",
       "      <td>Semiurban</td>\n",
       "      <td>N</td>\n",
       "    </tr>\n",
       "  </tbody>\n",
       "</table>\n",
       "<p>614 rows × 13 columns</p>\n",
       "</div>"
      ],
      "text/plain": [
       "      Loan_ID  Gender Married Dependents     Education Self_Employed  \\\n",
       "0    LP001002    Male      No          0      Graduate            No   \n",
       "1    LP001003    Male     Yes          1      Graduate            No   \n",
       "2    LP001005    Male     Yes          0      Graduate           Yes   \n",
       "3    LP001006    Male     Yes          0  Not Graduate            No   \n",
       "4    LP001008    Male      No          0      Graduate            No   \n",
       "..        ...     ...     ...        ...           ...           ...   \n",
       "609  LP002978  Female      No          0      Graduate            No   \n",
       "610  LP002979    Male     Yes         3+      Graduate            No   \n",
       "611  LP002983    Male     Yes          1      Graduate            No   \n",
       "612  LP002984    Male     Yes          2      Graduate            No   \n",
       "613  LP002990  Female      No          0      Graduate           Yes   \n",
       "\n",
       "     ApplicantIncome  CoapplicantIncome  LoanAmount  Loan_Amount_Term  \\\n",
       "0               5849                0.0         NaN             360.0   \n",
       "1               4583             1508.0       128.0             360.0   \n",
       "2               3000                0.0        66.0             360.0   \n",
       "3               2583             2358.0       120.0             360.0   \n",
       "4               6000                0.0       141.0             360.0   \n",
       "..               ...                ...         ...               ...   \n",
       "609             2900                0.0        71.0             360.0   \n",
       "610             4106                0.0        40.0             180.0   \n",
       "611             8072              240.0       253.0             360.0   \n",
       "612             7583                0.0       187.0             360.0   \n",
       "613             4583                0.0       133.0             360.0   \n",
       "\n",
       "     Credit_History Property_Area Loan_Status  \n",
       "0               1.0         Urban           Y  \n",
       "1               1.0         Rural           N  \n",
       "2               1.0         Urban           Y  \n",
       "3               1.0         Urban           Y  \n",
       "4               1.0         Urban           Y  \n",
       "..              ...           ...         ...  \n",
       "609             1.0         Rural           Y  \n",
       "610             1.0         Rural           Y  \n",
       "611             1.0         Urban           Y  \n",
       "612             1.0         Urban           Y  \n",
       "613             0.0     Semiurban           N  \n",
       "\n",
       "[614 rows x 13 columns]"
      ]
     },
     "execution_count": 3,
     "metadata": {},
     "output_type": "execute_result"
    }
   ],
   "source": [
    "print(\"The shape of our dataset: \", data.shape)\n",
    "data"
   ]
  },
  {
   "cell_type": "code",
   "execution_count": 4,
   "metadata": {},
   "outputs": [],
   "source": [
    "# We drop one unnecessary feature\n",
    "data = data.drop(['Loan_ID'], axis = 1)"
   ]
  },
  {
   "cell_type": "code",
   "execution_count": 5,
   "metadata": {},
   "outputs": [
    {
     "data": {
      "text/plain": [
       "False"
      ]
     },
     "execution_count": 5,
     "metadata": {},
     "output_type": "execute_result"
    }
   ],
   "source": [
    "# We check for duplicated values\n",
    "data.duplicated().any()"
   ]
  },
  {
   "cell_type": "code",
   "execution_count": 6,
   "metadata": {},
   "outputs": [
    {
     "data": {
      "text/plain": [
       "Gender               13\n",
       "Married               3\n",
       "Dependents           15\n",
       "Education             0\n",
       "Self_Employed        32\n",
       "ApplicantIncome       0\n",
       "CoapplicantIncome     0\n",
       "LoanAmount           22\n",
       "Loan_Amount_Term     14\n",
       "Credit_History       50\n",
       "Property_Area         0\n",
       "Loan_Status           0\n",
       "dtype: int64"
      ]
     },
     "execution_count": 6,
     "metadata": {},
     "output_type": "execute_result"
    }
   ],
   "source": [
    "# We check for missing values and duplicates\n",
    "data.isnull().sum()"
   ]
  },
  {
   "cell_type": "code",
   "execution_count": 7,
   "metadata": {},
   "outputs": [],
   "source": [
    "# As we can see we have some missing values in some of our features\n",
    "# We can either choose to:\n",
    "# - fill them with the: mean, median or mode\n",
    "# - or remove the instance completly\n",
    "# -> We choose to fill the NaN values with the mode: the prominent value of the feature"
   ]
  },
  {
   "cell_type": "code",
   "execution_count": 8,
   "metadata": {},
   "outputs": [],
   "source": [
    "# Dealing with missing values"
   ]
  },
  {
   "cell_type": "code",
   "execution_count": 9,
   "metadata": {},
   "outputs": [],
   "source": [
    "na_features = ['Gender', 'Married', 'Dependents', 'Self_Employed', 'LoanAmount', 'Loan_Amount_Term', 'Credit_History']\n",
    "for feature in na_features:\n",
    "    data[feature].fillna(data[feature].mode()[0], inplace=True)"
   ]
  },
  {
   "cell_type": "code",
   "execution_count": 10,
   "metadata": {},
   "outputs": [
    {
     "data": {
      "text/plain": [
       "Gender               0\n",
       "Married              0\n",
       "Dependents           0\n",
       "Education            0\n",
       "Self_Employed        0\n",
       "ApplicantIncome      0\n",
       "CoapplicantIncome    0\n",
       "LoanAmount           0\n",
       "Loan_Amount_Term     0\n",
       "Credit_History       0\n",
       "Property_Area        0\n",
       "Loan_Status          0\n",
       "dtype: int64"
      ]
     },
     "execution_count": 10,
     "metadata": {},
     "output_type": "execute_result"
    }
   ],
   "source": [
    "data.isnull().sum()"
   ]
  },
  {
   "cell_type": "code",
   "execution_count": 11,
   "metadata": {},
   "outputs": [],
   "source": [
    "#GRAPHICAL SUMMARY\n",
    "data['Married'] = data['Married'].replace({'Yes': 'Married', 'No': 'Single'})\n",
    "data['Loan_Status'] = data['Loan_Status'].replace({'Y': 'Allowed', 'N': 'Disallowed'})"
   ]
  },
  {
   "cell_type": "code",
   "execution_count": 12,
   "metadata": {},
   "outputs": [
    {
     "data": {
      "text/plain": [
       "<AxesSubplot:xlabel='Credit_History', ylabel='count'>"
      ]
     },
     "execution_count": 12,
     "metadata": {},
     "output_type": "execute_result"
    },
    {
     "data": {
      "image/png": "[encoded data removed]",
      "text/plain": [
       "<Figure size 1008x1008 with 6 Axes>"
      ]
     },
     "metadata": {
      "needs_background": "light"
     },
     "output_type": "display_data"
    }
   ],
   "source": [
    "plt.figure(figsize = (14,14))\n",
    "\n",
    "plt.subplot(2,3,1)\n",
    "sn.countplot(data = data, x = 'Gender', hue = 'Loan_Status', palette = 'plasma')\n",
    "plt.subplot(2,3,2)\n",
    "sn.countplot(data = data, x = 'Education', hue = 'Loan_Status', palette = 'brg')\n",
    "plt.subplot(2,3,3)\n",
    "sn.countplot(data = data, x = 'Self_Employed', hue = 'Loan_Status', palette = 'autumn')\n",
    "plt.subplot(2,3,4)\n",
    "sn.countplot(data = data, x = 'Property_Area', hue = 'Loan_Status', palette = 'rainbow')\n",
    "plt.subplot(2,3,5)\n",
    "sn.countplot(data = data, x = 'Married', hue = 'Loan_Status', palette = 'copper')\n",
    "plt.subplot(2,3,6)\n",
    "sn.countplot(data = data, x = 'Credit_History', hue = 'Loan_Status', palette = 'inferno')\n",
    "\n",
    "\n"
   ]
  },
  {
   "cell_type": "code",
   "execution_count": 13,
   "metadata": {},
   "outputs": [],
   "source": [
    "#From the above analysis, it can be concluded that:\n",
    "#Male Individuals have more chance of receiving the Loan.\n",
    "#Married Individuals have more chance of receiving the Loan.\n",
    "#Graduate Individuals have more chance of receiving the Loan.\n",
    "#Not Self-Employed have more chance of receiving the Loan.\n",
    "#Individuals with a credit history have more chance of receiving the Loan.\n",
    "#People living in Semi-Urban Area have more chance to receive the Loan."
   ]
  },
  {
   "cell_type": "code",
   "execution_count": 14,
   "metadata": {},
   "outputs": [],
   "source": [
    "# Let's plot a pie chart containing all the necessary information at once using the plotly library"
   ]
  },
  {
   "cell_type": "code",
   "execution_count": 15,
   "metadata": {
    "scrolled": false
   },
   "outputs": [
    {
     "ename": "SyntaxError",
     "evalue": "unexpected EOF while parsing (<ipython-input-15-91f74fbc06f0>, line 11)",
     "output_type": "error",
     "traceback": [
      "\u001b[1;36m  File \u001b[1;32m\"<ipython-input-15-91f74fbc06f0>\"\u001b[1;36m, line \u001b[1;32m11\u001b[0m\n\u001b[1;33m    pie.show()\u001b[0m\n\u001b[1;37m              ^\u001b[0m\n\u001b[1;31mSyntaxError\u001b[0m\u001b[1;31m:\u001b[0m unexpected EOF while parsing\n"
     ]
    }
   ],
   "source": [
    "pie = px.sunburst(data_frame = data, \n",
    "                  path = ['Gender', 'Married', 'Property_Area','Education', 'Loan_Status'], \n",
    "                  color = 'LoanAmount',\n",
    "                  color_continuous_scale = 'RdBu',\n",
    "                  #height  = 700,\n",
    "                  #width = 700\n",
    "                 )\n",
    "\n",
    "pie.update_layout(title = {'text' : 'Loan Status VS Gender, Marrital Status, Property Area & Education',               \n",
    "                  #'x':0.5,\n",
    "                  #'xanchor': 'center'\n",
    "                          }\n",
    "                           )\n",
    "pie.show()"
   ]
  },
  {
   "cell_type": "code",
   "execution_count": null,
   "metadata": {},
   "outputs": [],
   "source": [
    "# OUTLIERS\n",
    "# One way of dealing with outliers, is to plot boxplots of different features and check their presence"
   ]
  },
  {
   "cell_type": "code",
   "execution_count": null,
   "metadata": {
    "scrolled": true
   },
   "outputs": [],
   "source": [
    "plt.figure(figsize = (15,2))\n",
    "plt.subplot(1,2,1)\n",
    "sn.boxplot(data['ApplicantIncome'])\n",
    "plt.subplot(1,2,2)\n",
    "sn.boxplot(data['CoapplicantIncome'])"
   ]
  },
  {
   "cell_type": "code",
   "execution_count": null,
   "metadata": {},
   "outputs": [],
   "source": [
    "# Removing outliers from Applicant Income column\n",
    "zscore = np.abs(stats.zscore(data['ApplicantIncome']))\n",
    "\n",
    "data_clean = data[(zscore <3)]\n",
    "print(\"The number of outlier(s) removed from the Applicant Income column is: %i\" % int(data['ApplicantIncome'].shape[0] - data_clean['ApplicantIncome'].shape[0]))\n",
    "\n",
    "\n",
    "# Removing outliers from Co-Applicant Income column\n",
    "zscore = np.abs(stats.zscore(data['CoapplicantIncome']))\n",
    "\n",
    "data_clean = data[(zscore <3)]\n",
    "print(\"The number of outlier(s) removed from the Co-applicant Income column is: %i\" % int(data['CoapplicantIncome'].shape[0] - data_clean['CoapplicantIncome'].shape[0]))"
   ]
  },
  {
   "cell_type": "code",
   "execution_count": null,
   "metadata": {},
   "outputs": [],
   "source": [
    "# Feature Engineering"
   ]
  },
  {
   "cell_type": "code",
   "execution_count": null,
   "metadata": {},
   "outputs": [],
   "source": [
    "df = data_clean.copy()\n"
   ]
  },
  {
   "cell_type": "code",
   "execution_count": null,
   "metadata": {},
   "outputs": [],
   "source": [
    "# We change the binary variables from binary strings to binary integers\n",
    "\n",
    "df['Gender'] = df['Gender'].replace({'Male': 0, 'Female': 1})\n",
    "df['Married'] = df['Married'].replace({'Married': 1, 'Single': 0})\n",
    "df['Education'] = df['Education'].replace({'Not Graduate': 0, 'Graduate': 1})\n",
    "df['Self_Employed'] = df['Self_Employed'].replace({'Yes': 1, 'No': 0})\n",
    "df['Loan_Status'] = df['Loan_Status'].replace({'Disallowed': 0, 'Allowed': 1})\n",
    "\n",
    "# We dummify our categorical variables such as: Dependents & Property_Area using the get_dummies method \n",
    "\n",
    "df = pd.get_dummies(df, columns = ['Dependents', 'Property_Area', 'Gender', 'Married', 'Education', 'Self_Employed'])\n",
    "\n",
    "df.head()"
   ]
  },
  {
   "cell_type": "code",
   "execution_count": null,
   "metadata": {},
   "outputs": [],
   "source": [
    "#let's normalize the data\n",
    "#Note: We only normalize continuous variables and not binary ones: Loan_Amount_Term, LoanAmount, CoapplicantIncome, ApplicantIncome\n",
    "\n",
    "columns_to_normalize = df[['Loan_Amount_Term', 'LoanAmount', 'CoapplicantIncome', 'ApplicantIncome']]\n",
    "columns_to_normalize = (columns_to_normalize - columns_to_normalize.mean()) / columns_to_normalize.std()\n",
    "df[['Loan_Amount_Term', 'LoanAmount', 'CoapplicantIncome', 'ApplicantIncome']] = columns_to_normalize\n",
    "\n",
    "df"
   ]
  },
  {
   "cell_type": "markdown",
   "metadata": {},
   "source": [
    "### LOGISTIC REGRESSION"
   ]
  },
  {
   "cell_type": "code",
   "execution_count": null,
   "metadata": {},
   "outputs": [],
   "source": [
    "def init_weights(x):\n",
    "    \n",
    "    w = np.zeros((x.shape[1], 1))\n",
    "    \n",
    "    return w"
   ]
  },
  {
   "cell_type": "code",
   "execution_count": null,
   "metadata": {},
   "outputs": [],
   "source": [
    "def sigmoid(x):\n",
    "  \n",
    "    return 1 / (1 + np.exp(-x))"
   ]
  },
  {
   "cell_type": "code",
   "execution_count": null,
   "metadata": {},
   "outputs": [],
   "source": [
    "def cost_function(x, y, w):\n",
    "    \n",
    "    m = x.shape[0]\n",
    "    h = sigmoid(np.dot(x, w))\n",
    "    J = - np.sum(y * np.log(h) + (1 - y) * np.log(1 - h)) / m\n",
    "    \n",
    "    return J\n",
    "    "
   ]
  },
  {
   "cell_type": "code",
   "execution_count": null,
   "metadata": {},
   "outputs": [],
   "source": [
    "def gradient_descent(x, y, w, alpha = 0.01):\n",
    "    \n",
    "    m = x.shape[0]\n",
    "    h = sigmoid(np.dot(x, w))\n",
    "    w = w - (alpha * (np.dot(x.T, h - y)) / m) \n",
    "    \n",
    "    return w\n",
    "   "
   ]
  },
  {
   "cell_type": "code",
   "execution_count": null,
   "metadata": {},
   "outputs": [],
   "source": [
    "def logistic_regression(x, y, alpha = 0.01, delta = 0, iterations = 10000):\n",
    "    \n",
    "    cost_cache = []\n",
    "    w = init_weights(x)\n",
    "    \n",
    "    cost = cost_function(x, y, w)\n",
    "    cost_cache.append(cost) # We add the first calculated cost\n",
    "    \n",
    "    for i in range(iterations):\n",
    "        w = gradient_descent(x, y, w, alpha)\n",
    "        new_cost = cost_function(x, y, w)\n",
    "        cost_cache.append(new_cost)\n",
    "        \n",
    "        \n",
    "        if abs(int(new_cost) - int(cost)) < delta:\n",
    "            cost = new_cost\n",
    "            print(\"The cost function converged after %i iterations: \" % i)\n",
    "            break\n",
    "               \n",
    "\n",
    "    return w, cost_cache"
   ]
  },
  {
   "cell_type": "code",
   "execution_count": null,
   "metadata": {},
   "outputs": [],
   "source": [
    "x = df.drop(['Loan_Status'], axis = 1)\n",
    "y = df[['Loan_Status']]\n",
    "\n",
    "# Adding the bias for W_0\n",
    "x = np.c_[np.ones(x.shape[0]), x]\n",
    "\n",
    "weights, cost_cache = logistic_regression(x, y, alpha = 0.01, delta = 0, iterations = 10000)"
   ]
  },
  {
   "cell_type": "code",
   "execution_count": null,
   "metadata": {},
   "outputs": [],
   "source": [
    "plt.plot(cost_cache)"
   ]
  },
  {
   "cell_type": "code",
   "execution_count": null,
   "metadata": {},
   "outputs": [],
   "source": [
    "def conf_mat(x, y, w):\n",
    "    \"\"\" CONFUSION MATRIX \"\"\"\n",
    "        \n",
    "    y_predict = (sigmoid(np.dot(x, weights)) > 0.5).astype(int)\n",
    "    true_positives = len((y_predict + y)[y_predict + y == 2]) # We predict 1 for a 1: sum gives 2\n",
    "    false_negatives = len((y - y_predict)[y - y_predict == 1]) # We predict 0 for a 1: difference gives 1\n",
    "    true_negatives = len(y_predict[y_predict == 0] - false_negatives)\n",
    "    false_positives = len(y_predict[y_predict == 1] - true_positives)\n",
    "    \n",
    "    print(\"## CONFUSION MATRIX ## \\n\")\n",
    "    print(\"True Positives: \", true_positives)\n",
    "    print(\"False Negatives: \", false_negatives)\n",
    "    print(\"True Negatives: \", true_negatives)\n",
    "    print(\"False Positives: \", false_positives)\n",
    "    print()\n",
    "    \n",
    "    return y_predict, true_positives, false_negatives, true_negatives, false_positives"
   ]
  },
  {
   "cell_type": "code",
   "execution_count": null,
   "metadata": {},
   "outputs": [],
   "source": [
    "def metrics(x, y, w):\n",
    "    \"\"\" METRICS COMPUTATION \"\"\"\n",
    "    \n",
    "    y_predict, true_positives, false_negatives, true_negatives, false_positives = conf_mat(x, y, weights)\n",
    "    \n",
    "    accuracy = (true_positives + true_negatives) / (true_positives + false_positives + false_negatives + true_negatives)\n",
    "    precision = true_positives / (true_positives + false_positives)\n",
    "    recall = true_positives / (true_positives + false_negatives)\n",
    "    F1 = 2 * precision * recall / (precision + recall)\n",
    "    \n",
    "    print(\"## METRICS ## \\n\" )\n",
    "    print(\"The accuracy is: \", accuracy)\n",
    "    print(\"The precision is: \", precision)\n",
    "    print(\"The recall is: \", recall)\n",
    "    print(\"The F1 score is: \", F1)\n",
    "    print()\n",
    "    \n",
    "    return accuracy, precision, recall, F1"
   ]
  },
  {
   "cell_type": "code",
   "execution_count": null,
   "metadata": {},
   "outputs": [],
   "source": [
    "print(\"Performance of our Logistic model:\\n\")\n",
    "metrics(x, y, weights)\n",
    "\n"
   ]
  },
  {
   "cell_type": "markdown",
   "metadata": {},
   "source": [
    "### Scikit-Learn Model"
   ]
  },
  {
   "cell_type": "code",
   "execution_count": null,
   "metadata": {},
   "outputs": [],
   "source": [
    "##   SPLITTING\n",
    "y = df[['Loan_Status']]\n",
    "x = df.drop(['Loan_Status'], axis = 1)\n",
    "\n",
    "x_train, x_test, y_train, y_test = train_test_split(x, y, test_size = 0.2, random_state = 42)\n",
    "print(\"training set : \", x_train.shape, y_train.shape)\n",
    "print(\"testing set : \", x_test.shape, y_test.shape)"
   ]
  },
  {
   "cell_type": "code",
   "execution_count": null,
   "metadata": {},
   "outputs": [],
   "source": [
    "##    MODEL\n",
    "\n",
    "model = LogisticRegression()\n",
    "model.fit(x_train, y_train.to_numpy().ravel())\n",
    "\n",
    "predictions_train = model.predict(x_train)\n",
    "predictions_test = model.predict(x_test)\n",
    "\n",
    "\n"
   ]
  },
  {
   "cell_type": "code",
   "execution_count": null,
   "metadata": {},
   "outputs": [],
   "source": [
    "## Confusion Matrix & Metrics\n",
    "\n",
    "\n",
    "\n",
    "print(\" \\t PERFORMANCE OF THE SCIKIT-LEARN MODEL \\n\")\n",
    "print(\"Accuracy on the training set: \",model.score(x_train, y_train) * 100, \"%\")\n",
    "print(\"Precision on the training set: \",precision_score(y_train, predictions_train) * 100, \"%\")\n",
    "print(\"Recall on the training set: \",recall_score(y_train, predictions_train))\n",
    "print(\"F1 score on the training set: \",f1_score(y_train, predictions_train), \"\\n\")\n",
    "\n",
    "print(\"Accuracy on the test set: \",model.score(x_test, y_test) * 100, \"%\")\n",
    "print(\"Precision on the test set: \",precision_score(y_test, predictions_test) * 100, \"%\")\n",
    "print(\"Recall on the test set: \",recall_score(y_test, predictions_test))\n",
    "print(\"F1 score on the test set: \",f1_score(y_test, predictions_test), \"\\n\")\n",
    "\n",
    "print(\" \\t\\t CONFUSION MATRIX \\n\")\n",
    "## We calculate y_predict on all the dataset\n",
    "\n",
    "predictions = model.predict(x)\n",
    "\n",
    "confusion_mat = confusion_matrix(y, predictions) \n",
    "sn.heatmap(confusion_mat, annot = True,fmt = \"d\")\n",
    "plt.ylabel('Actual label')\n",
    "plt.xlabel('Predicted label')\n"
   ]
  }
 ],
 "metadata": {
  "kernelspec": {
   "display_name": "Python 3",
   "language": "python",
   "name": "python3"
  },
  "language_info": {
   "codemirror_mode": {
    "name": "ipython",
    "version": 3
   },
   "file_extension": ".py",
   "mimetype": "text/x-python",
   "name": "python",
   "nbconvert_exporter": "python",
   "pygments_lexer": "ipython3",
   "version": "3.8.5"
  }
 },
 "nbformat": 4,
 "nbformat_minor": 4
}
